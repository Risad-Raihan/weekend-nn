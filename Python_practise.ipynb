{
  "nbformat": 4,
  "nbformat_minor": 0,
  "metadata": {
    "colab": {
      "provenance": [],
      "authorship_tag": "ABX9TyMJTb+2+4BIza8KDMH6VJQO",
      "include_colab_link": true
    },
    "kernelspec": {
      "name": "python3",
      "display_name": "Python 3"
    },
    "language_info": {
      "name": "python"
    }
  },
  "cells": [
    {
      "cell_type": "markdown",
      "metadata": {
        "id": "view-in-github",
        "colab_type": "text"
      },
      "source": [
        "<a href=\"https://colab.research.google.com/github/Risad-Raihan/weekend-nn/blob/main/Python_practise.ipynb\" target=\"_parent\"><img src=\"https://colab.research.google.com/assets/colab-badge.svg\" alt=\"Open In Colab\"/></a>"
      ]
    },
    {
      "cell_type": "code",
      "source": [
        "def count_vowels(text):\n",
        "  \"\"\"\n",
        "  Counts the number of vowels in a string using a loop.\n",
        "\n",
        "  Args:\n",
        "    text: The input string.\n",
        "\n",
        "  Returns:\n",
        "    The number of vowels in the string.\n",
        "  \"\"\"\n",
        "  vowels = 'aeiouAEIOU'\n",
        "  vowel_count = 0\n",
        "  for char in text:\n",
        "    if char in vowels:\n",
        "      vowel_count += 1\n",
        "  return vowel_count\n",
        "\n",
        "string = \"bom bola uira ja manger pola\"\n",
        "vow = count_vowels(string)\n",
        "print(vow)"
      ],
      "metadata": {
        "colab": {
          "base_uri": "https://localhost:8080/"
        },
        "id": "1Ra3Cgu-daQW",
        "outputId": "8969cda9-e804-4824-cb6c-e01f1646b818"
      },
      "execution_count": null,
      "outputs": [
        {
          "output_type": "stream",
          "name": "stdout",
          "text": [
            "11\n"
          ]
        }
      ]
    },
    {
      "cell_type": "code",
      "execution_count": null,
      "metadata": {
        "colab": {
          "base_uri": "https://localhost:8080/"
        },
        "id": "GgDu6OBdQ4K5",
        "outputId": "9f25a9d7-23df-4750-bf73-1ab6b512195b"
      },
      "outputs": [
        {
          "output_type": "stream",
          "name": "stdout",
          "text": [
            "11\n"
          ]
        }
      ],
      "source": [
        "def test(a,b):\n",
        "  total = a+b\n",
        "  return total\n",
        "\n",
        "n = test(5,6)\n",
        "print(n)"
      ]
    },
    {
      "cell_type": "code",
      "source": [
        "def print_numbers(n):\n",
        "  for i in range(n):\n",
        "    print(i)\n",
        "\n",
        "print_numbers(5)"
      ],
      "metadata": {
        "colab": {
          "base_uri": "https://localhost:8080/"
        },
        "id": "VuO8i-3SRK0x",
        "outputId": "b8a989da-0d43-48cb-ac33-2b833b38c330"
      },
      "execution_count": null,
      "outputs": [
        {
          "output_type": "stream",
          "name": "stdout",
          "text": [
            "0\n",
            "1\n",
            "2\n",
            "3\n",
            "4\n"
          ]
        }
      ]
    },
    {
      "cell_type": "code",
      "source": [
        "def sum_numbers(n):\n",
        "  total = 0\n",
        "  for i in range(1, n+1):\n",
        "    total = total+i\n",
        "\n",
        "  return total\n",
        "\n",
        "result = sum_numbers(10)\n",
        "print(result)"
      ],
      "metadata": {
        "colab": {
          "base_uri": "https://localhost:8080/"
        },
        "id": "x_7CG1m2Rcwb",
        "outputId": "e2730144-e8eb-425e-ed89-8285cbab8414"
      },
      "execution_count": null,
      "outputs": [
        {
          "output_type": "stream",
          "name": "stdout",
          "text": [
            "55\n"
          ]
        }
      ]
    },
    {
      "cell_type": "code",
      "source": [
        "def print_times_table(n):\n",
        "    for i in range(1, n + 1):\n",
        "        for j in range(1, n + 1):\n",
        "            print(f\"{i} × {j} = {i * j}\")\n",
        "        print()  # blank line\n",
        "\n",
        "print_times_table(3)"
      ],
      "metadata": {
        "colab": {
          "base_uri": "https://localhost:8080/"
        },
        "id": "owucc0DUSRxb",
        "outputId": "96a5326b-38c6-418a-f1b4-1af7a1d7daef"
      },
      "execution_count": null,
      "outputs": [
        {
          "output_type": "stream",
          "name": "stdout",
          "text": [
            "1 × 1 = 1\n",
            "1 × 2 = 2\n",
            "1 × 3 = 3\n",
            "\n",
            "2 × 1 = 2\n",
            "2 × 2 = 4\n",
            "2 × 3 = 6\n",
            "\n",
            "3 × 1 = 3\n",
            "3 × 2 = 6\n",
            "3 × 3 = 9\n",
            "\n"
          ]
        }
      ]
    },
    {
      "cell_type": "code",
      "source": [],
      "metadata": {
        "id": "dyZ7_ZhKUwEb"
      },
      "execution_count": null,
      "outputs": []
    },
    {
      "cell_type": "markdown",
      "metadata": {
        "id": "b3249dbf"
      },
      "source": [
        "A loop inside a function is a common programming pattern where you use a loop structure (like `for` or `while`) within the body of a function to repeat a block of code. This is useful for tasks that involve iterating over data or performing repetitive operations.\n",
        "\n",
        "Here's an example using a loop inside a function for a simple AI-related task: simulating coin flips to estimate probability."
      ]
    },
    {
      "cell_type": "code",
      "metadata": {
        "colab": {
          "base_uri": "https://localhost:8080/"
        },
        "id": "828f3cf7",
        "outputId": "977a6675-7d2a-485e-8951-b4ecfaadf915"
      },
      "source": [
        "import random\n",
        "\n",
        "def simulate_coin_flips(num_flips):\n",
        "  \"\"\"\n",
        "  Simulates coin flips and returns the number of heads.\n",
        "\n",
        "  Args:\n",
        "    num_flips: The total number of coin flips to simulate.\n",
        "\n",
        "  Returns:\n",
        "    The number of heads obtained in the simulation.\n",
        "  \"\"\"\n",
        "  heads_count = 0\n",
        "  # Loop through the specified number of flips\n",
        "  for _ in range(num_flips):\n",
        "    # Simulate a coin flip (0 for tails, 1 for heads)\n",
        "    result = random.randint(0, 1)\n",
        "    if result == 1:\n",
        "      heads_count += 1\n",
        "  return heads_count\n",
        "\n",
        "# Simulate 1000 coin flips\n",
        "num_simulations = 1000\n",
        "heads = simulate_coin_flips(num_simulations)\n",
        "\n",
        "# Calculate the estimated probability of getting heads\n",
        "estimated_probability = heads / num_simulations\n",
        "\n",
        "print(f\"Simulated {num_simulations} coin flips.\")\n",
        "print(f\"Number of heads: {heads}\")\n",
        "print(f\"Estimated probability of heads: {estimated_probability}\")"
      ],
      "execution_count": null,
      "outputs": [
        {
          "output_type": "stream",
          "name": "stdout",
          "text": [
            "Simulated 1000 coin flips.\n",
            "Number of heads: 471\n",
            "Estimated probability of heads: 0.471\n"
          ]
        }
      ]
    },
    {
      "cell_type": "markdown",
      "metadata": {
        "id": "b7d49443"
      },
      "source": [
        "In a RAG (Retrieval Augmented Generation) system, you typically retrieve relevant documents or pieces of text based on a query and then use a language model to generate a response based on the retrieved information.\n",
        "\n",
        "A loop can be useful in the retrieval step to process multiple potential sources or to iterate through chunks of text within a retrieved document.\n",
        "\n",
        "Here's a simplified example demonstrating a loop inside a function for a RAG-like scenario. This example simulates searching through a list of \"documents\" (simple strings in this case) to find those containing a specific keyword."
      ]
    },
    {
      "cell_type": "code",
      "metadata": {
        "colab": {
          "base_uri": "https://localhost:8080/"
        },
        "id": "e211c502",
        "outputId": "956faa6b-ff2b-4e72-ac68-931494a42c97"
      },
      "source": [
        "def retrieve_documents(query, documents):\n",
        "  \"\"\"\n",
        "  Simulates retrieving documents containing a keyword.\n",
        "\n",
        "  Args:\n",
        "    query: The keyword to search for.\n",
        "    documents: A list of strings representing documents.\n",
        "\n",
        "  Returns:\n",
        "    A list of documents that contain the query keyword.\n",
        "  \"\"\"\n",
        "  retrieved_docs = []\n",
        "  # Loop through each document in the list\n",
        "  for doc in documents:\n",
        "    # Check if the query keyword is in the document (case-insensitive)\n",
        "    if query.lower() in doc.lower():\n",
        "      retrieved_docs.append(doc)\n",
        "  return retrieved_docs\n",
        "\n",
        "# Sample \"documents\"\n",
        "sample_documents = [\n",
        "    \"The quick brown fox jumps over the lazy dog.\",\n",
        "    \"Artificial intelligence is a rapidly evolving field.\",\n",
        "    \"Retrieval Augmented Generation is a technique in NLP.\",\n",
        "    \"Loops are fundamental programming constructs.\",\n",
        "    \"Another document about artificial intelligence.\"\n",
        "]\n",
        "\n",
        "# Simulate a query\n",
        "search_query = \"intelligence\"\n",
        "\n",
        "# Use the function with the loop to retrieve relevant documents\n",
        "relevant_documents = retrieve_documents(search_query, sample_documents)\n",
        "\n",
        "print(f\"Searching for: '{search_query}'\")\n",
        "print(\"Relevant documents found:\")\n",
        "for doc in relevant_documents:\n",
        "  print(f\"- {doc}\")"
      ],
      "execution_count": null,
      "outputs": [
        {
          "output_type": "stream",
          "name": "stdout",
          "text": [
            "Searching for: 'intelligence'\n",
            "Relevant documents found:\n",
            "- Artificial intelligence is a rapidly evolving field.\n",
            "- Another document about artificial intelligence.\n"
          ]
        }
      ]
    },
    {
      "cell_type": "markdown",
      "metadata": {
        "id": "0cfddf6a"
      },
      "source": [
        "In this RAG example:\n",
        "\n",
        "1.  We define a function `retrieve_documents` that takes a `query` and a list of `documents`.\n",
        "2.  Inside the function, a `for` loop iterates through each `doc` in the `documents` list.\n",
        "3.  The `if query.lower() in doc.lower():` line checks if the lowercase version of the `query` is present in the lowercase version of the current `doc`. This simulates a simple search for relevance.\n",
        "4.  If a document is considered relevant (contains the keyword), it's added to the `retrieved_docs` list.\n",
        "5.  Finally, the function returns the list of `retrieved_docs`.\n",
        "\n",
        "This illustrates how a loop within a function can be used to process multiple items (documents in this case) as part of a larger AI workflow like RAG. In a real RAG system, the retrieval process would be much more complex, potentially involving vector databases and similarity calculations, but the principle of iterating through data sources using a loop within a function remains relevant."
      ]
    },
    {
      "cell_type": "markdown",
      "metadata": {
        "id": "1a395feb"
      },
      "source": [
        "### Lists in Python\n",
        "\n",
        "A list is a fundamental data structure in Python that is ordered and changeable. It allows you to store a collection of items in a single variable. Lists are created using square brackets `[]`."
      ]
    },
    {
      "cell_type": "code",
      "metadata": {
        "colab": {
          "base_uri": "https://localhost:8080/"
        },
        "id": "03b2f052",
        "outputId": "6db59947-5ff7-4237-b253-a3c97400a6e7"
      },
      "source": [
        "# Creating a list of numbers\n",
        "numbers = [1, 2, 3, 4, 5]\n",
        "print(\"List of numbers:\", numbers)\n",
        "\n",
        "# Creating a list of strings\n",
        "fruits = [\"apple\", \"banana\", \"cherry\"]\n",
        "print(\"List of fruits:\", fruits)\n",
        "\n",
        "# Creating a mixed list\n",
        "mixed_list = [1, \"hello\", True, 3.14]\n",
        "print(\"Mixed list:\", mixed_list)"
      ],
      "execution_count": null,
      "outputs": [
        {
          "output_type": "stream",
          "name": "stdout",
          "text": [
            "List of numbers: [1, 2, 3, 4, 5]\n",
            "List of fruits: ['apple', 'banana', 'cherry']\n",
            "Mixed list: [1, 'hello', True, 3.14]\n"
          ]
        }
      ]
    },
    {
      "cell_type": "markdown",
      "metadata": {
        "id": "6886f5c2"
      },
      "source": [
        "### Loops with Lists\n",
        "\n",
        "You can iterate over the items in a list using loops, most commonly a `for` loop. This allows you to access and process each element in the list."
      ]
    },
    {
      "cell_type": "code",
      "metadata": {
        "colab": {
          "base_uri": "https://localhost:8080/"
        },
        "id": "66168cfa",
        "outputId": "1b5fbeb3-aeca-4948-9d13-8f14d2b38335"
      },
      "source": [
        "# Using a for loop to print each item in a list\n",
        "fruits = [\"apple\", \"banana\", \"cherry\"]\n",
        "print(\"Printing items in the fruits list:\")\n",
        "for fruit in fruits:\n",
        "  print(fruit)\n",
        "\n",
        "# Using a for loop with index\n",
        "print(\"\\nPrinting items and their indices:\")\n",
        "for i in range(len(fruits)):\n",
        "  print(f\"Index {i}: {fruits[i]}\")"
      ],
      "execution_count": null,
      "outputs": [
        {
          "output_type": "stream",
          "name": "stdout",
          "text": [
            "Printing items in the fruits list:\n",
            "apple\n",
            "banana\n",
            "cherry\n",
            "\n",
            "Printing items and their indices:\n",
            "Index 0: apple\n",
            "Index 1: banana\n",
            "Index 2: cherry\n"
          ]
        }
      ]
    },
    {
      "cell_type": "code",
      "source": [
        "fruits = [\"applie\", \"passion fruit\", \"diragon\"]\n",
        "print(\"Looking for diragon\")\n",
        "for fruit in fruits:\n",
        "  print(fruit)\n",
        "\n",
        "print(\"diragon palam, khalam\")"
      ],
      "metadata": {
        "colab": {
          "base_uri": "https://localhost:8080/"
        },
        "id": "7-rWrr9gXvdD",
        "outputId": "b958fe5d-0f49-4c04-b6b6-28ff0c878677"
      },
      "execution_count": null,
      "outputs": [
        {
          "output_type": "stream",
          "name": "stdout",
          "text": [
            "Looking for diragon\n",
            "applie\n",
            "passion fruit\n",
            "diragon\n",
            "diragon palam, khalam\n"
          ]
        }
      ]
    },
    {
      "cell_type": "markdown",
      "metadata": {
        "id": "be2f899c"
      },
      "source": [
        "### Functions with Lists\n",
        "\n",
        "You can pass lists as arguments to functions. This is very useful when you want to perform operations on a collection of data within a function."
      ]
    },
    {
      "cell_type": "code",
      "metadata": {
        "colab": {
          "base_uri": "https://localhost:8080/"
        },
        "id": "c646f6a9",
        "outputId": "9a56c3f3-09b0-4364-b7f1-b90581032f71"
      },
      "source": [
        "def print_list_items(item_list):\n",
        "  \"\"\"\n",
        "  Prints each item in the given list.\n",
        "\n",
        "  Args:\n",
        "    item_list: The list to print items from.\n",
        "  \"\"\"\n",
        "  print(\"Printing items from inside the function:\")\n",
        "  for item in item_list:\n",
        "    print(item)\n",
        "\n",
        "my_items = [\"laptop\", \"keyboard\", \"mouse\"]\n",
        "print_list_items(my_items)"
      ],
      "execution_count": null,
      "outputs": [
        {
          "output_type": "stream",
          "name": "stdout",
          "text": [
            "Printing items from inside the function:\n",
            "laptop\n",
            "keyboard\n",
            "mouse\n"
          ]
        }
      ]
    },
    {
      "cell_type": "code",
      "source": [
        "def print_band_name(band_name):\n",
        "  \"\"\"\n",
        "\n",
        "  prints band name , must be fun, im high\n",
        "  \"\"\"\n",
        "  print(\"printing band name\")\n",
        "  for band in band_name:\n",
        "    print(band)\n",
        "\n",
        "fav_bands = [\"Nirvana\", \"Nemesis\", \"Daddys\"]\n",
        "print_band_name(fav_bands)"
      ],
      "metadata": {
        "colab": {
          "base_uri": "https://localhost:8080/"
        },
        "id": "hYKtmskUYpkt",
        "outputId": "3d7a22eb-3560-48bf-97a1-17d4bc1841f8"
      },
      "execution_count": null,
      "outputs": [
        {
          "output_type": "stream",
          "name": "stdout",
          "text": [
            "printing band name\n",
            "Nirvana\n",
            "Nemesis\n",
            "Daddys\n"
          ]
        }
      ]
    },
    {
      "cell_type": "markdown",
      "metadata": {
        "id": "ae797ce0"
      },
      "source": [
        "### Loop Inside Function with List\n",
        "\n",
        "Combining loops and functions with lists is a powerful pattern. You can define a function that takes a list as an argument and then use a loop inside that function to process the elements of the list. This is very common in data processing and analysis tasks."
      ]
    },
    {
      "cell_type": "code",
      "metadata": {
        "colab": {
          "base_uri": "https://localhost:8080/"
        },
        "id": "3606b173",
        "outputId": "b4e673a1-49c3-4503-8917-de19009cfe80"
      },
      "source": [
        "def calculate_sum_of_list(numbers_list):\n",
        "  \"\"\"\n",
        "  Calculates the sum of numbers in a list using a loop.\n",
        "\n",
        "  Args:\n",
        "    numbers_list: A list of numbers.\n",
        "\n",
        "  Returns:\n",
        "    The sum of the numbers in the list.\n",
        "  \"\"\"\n",
        "  total = 0\n",
        "  # Loop through the list and add each number to the total\n",
        "  for number in numbers_list:\n",
        "    total += number\n",
        "  return total\n",
        "\n",
        "my_numbers = [10, 20, 30, 40, 50]\n",
        "sum_of_numbers = calculate_sum_of_list(my_numbers)\n",
        "print(f\"The sum of the numbers in the list is: {sum_of_numbers}\")"
      ],
      "execution_count": null,
      "outputs": [
        {
          "output_type": "stream",
          "name": "stdout",
          "text": [
            "The sum of the numbers in the list is: 150\n"
          ]
        }
      ]
    },
    {
      "cell_type": "code",
      "source": [
        "def calculate_sum_of_list(number_list):\n",
        "  \"\"\"\n",
        "  Calculates the sum of numbers in a list using a loop.\n",
        "\n",
        "  Args:\n",
        "    numbers_list: A list of numbers.\n",
        "\n",
        "  Returns:\n",
        "    The sum of the numbers in the list.\n",
        "  \"\"\"\n",
        "  total = 0\n",
        "  for number in number_list:\n",
        "    total += number\n",
        "  return total\n",
        "\n",
        "\n",
        "numbs=[10,2,30,4,50]\n",
        "sum = calculate_sum_of_list(numbs)\n",
        "print(sum)"
      ],
      "metadata": {
        "colab": {
          "base_uri": "https://localhost:8080/"
        },
        "id": "aBRMCZcOZ-Po",
        "outputId": "8568080d-4015-4a92-c99b-054397b3187b"
      },
      "execution_count": null,
      "outputs": [
        {
          "output_type": "stream",
          "name": "stdout",
          "text": [
            "96\n"
          ]
        }
      ]
    },
    {
      "cell_type": "code",
      "source": [],
      "metadata": {
        "id": "NFwQ4AVJbNwY"
      },
      "execution_count": null,
      "outputs": []
    },
    {
      "cell_type": "markdown",
      "metadata": {
        "id": "d3789e0f"
      },
      "source": [
        "### String Manipulation with Loops Inside a Function\n",
        "\n",
        "You can use loops inside a function to iterate over the characters of a string or to process a list of strings. This is useful for tasks like counting specific characters, reversing a string, or transforming text."
      ]
    },
    {
      "cell_type": "code",
      "metadata": {
        "colab": {
          "base_uri": "https://localhost:8080/"
        },
        "id": "0eca1850",
        "outputId": "27d61768-6ddd-422c-ec65-b22ec7191ecf"
      },
      "source": [
        "def count_vowels(text):\n",
        "  \"\"\"\n",
        "  Counts the number of vowels in a string using a loop.\n",
        "\n",
        "  Args:\n",
        "    text: The input string.\n",
        "\n",
        "  Returns:\n",
        "    The number of vowels in the string.\n",
        "  \"\"\"\n",
        "  vowels = \"aeiouAEIOU\"\n",
        "  vowel_count = 0\n",
        "  # Loop through each character in the string\n",
        "  for char in text:\n",
        "    # Check if the character is a vowel\n",
        "    if char in vowels:\n",
        "      vowel_count += 1\n",
        "  return vowel_count\n",
        "\n",
        "my_string = \"Hello, how are you?\"\n",
        "num_vowels = count_vowels(my_string)\n",
        "print(f\"The number of vowels in '{my_string}' is: {num_vowels}\")"
      ],
      "execution_count": null,
      "outputs": [
        {
          "output_type": "stream",
          "name": "stdout",
          "text": [
            "The number of vowels in 'Hello, how are you?' is: 7\n"
          ]
        }
      ]
    },
    {
      "cell_type": "code",
      "source": [
        "def count_vowels(text):\n",
        "  \"\"\"\n",
        "  Counts the number of vowels in a string using a loop.\n",
        "\n",
        "  Args:\n",
        "    text: The input string.\n",
        "\n",
        "  Returns:\n",
        "    The number of vowels in the string.\n",
        "  \"\"\"\n",
        "  vowels = 'aeiouAEIOU'\n",
        "  vowel_count = 0\n",
        "  for char in text:\n",
        "    if char in vowels:\n",
        "      vowel_count += 1\n",
        "  return vowel_count\n",
        "\n",
        "string = \"bom bola uira ja manger pola\"\n",
        "vow = count_vowels(string)\n",
        "print(vow)"
      ],
      "metadata": {
        "colab": {
          "base_uri": "https://localhost:8080/"
        },
        "id": "VHldH_f0cDnU",
        "outputId": "7d7e40d0-5de6-477c-de1d-e8a0436b29e4"
      },
      "execution_count": null,
      "outputs": [
        {
          "output_type": "stream",
          "name": "stdout",
          "text": [
            "11\n"
          ]
        }
      ]
    },
    {
      "cell_type": "markdown",
      "metadata": {
        "id": "7dd5a4ba"
      },
      "source": [
        "In this example:\n",
        "\n",
        "1.  We define a function `count_vowels` that takes a `text` string as input.\n",
        "2.  Inside the function, we define a string `vowels` containing all the vowels (both lowercase and uppercase).\n",
        "3.  We initialize `vowel_count` to 0.\n",
        "4.  We use a `for` loop to iterate through each `char` in the input `text`.\n",
        "5.  Inside the loop, we check if the current `char` is present in the `vowels` string using the `in` operator.\n",
        "6.  If it's a vowel, we increment `vowel_count`.\n",
        "7.  Finally, the function returns the total `vowel_count`.\n",
        "\n",
        "This demonstrates how a loop within a function can be used to perform character-level string manipulation."
      ]
    },
    {
      "cell_type": "code",
      "source": [
        "text = \"Hello Risad\"\n",
        "print(text.upper())\n",
        "print(text.replace(\"Hello\", \"Kire\"))\n",
        "print(text.split())"
      ],
      "metadata": {
        "colab": {
          "base_uri": "https://localhost:8080/"
        },
        "id": "WcVnrwjFdMQs",
        "outputId": "d6b9dc9f-d2d1-4b50-c650-c9725e4942b7"
      },
      "execution_count": null,
      "outputs": [
        {
          "output_type": "stream",
          "name": "stdout",
          "text": [
            "HELLO RISAD\n",
            "Kire Risad\n",
            "['Hello', 'Risad']\n"
          ]
        }
      ]
    },
    {
      "cell_type": "code",
      "source": [],
      "metadata": {
        "id": "DmImiJOiebcy"
      },
      "execution_count": null,
      "outputs": []
    },
    {
      "cell_type": "markdown",
      "metadata": {
        "id": "b07e27e1"
      },
      "source": [
        "### Conditional Statements with Loops\n",
        "\n",
        "Combining conditional statements (`if`, `elif`, `else`) with loops allows you to execute different blocks of code within each iteration of a loop based on whether a specific condition is true or false. This is essential for tasks like filtering data, handling specific cases, or making decisions within a repetitive process."
      ]
    },
    {
      "cell_type": "code",
      "metadata": {
        "id": "d5237e87"
      },
      "source": [
        "# Example: Printing even and odd numbers from a list\n",
        "\n",
        "numbers = [1, 2, 3, 4, 5, 6, 7, 8, 9, 10]\n",
        "\n",
        "print(\"Checking if numbers are even or odd:\")\n",
        "for number in numbers:\n",
        "  if number % 2 == 0:\n",
        "    print(f\"{number} is even\")\n",
        "  else:\n",
        "    print(f\"{number} is odd\")"
      ],
      "execution_count": null,
      "outputs": []
    },
    {
      "cell_type": "markdown",
      "metadata": {
        "id": "e49f8101"
      },
      "source": [
        "In this example:\n",
        "\n",
        "1.  We have a list of `numbers`.\n",
        "2.  We use a `for` loop to iterate through each `number` in the list.\n",
        "3.  Inside the loop, we use an `if` statement to check if the `number` is divisible by 2 (i.e., if it's even) using the modulo operator (`%`).\n",
        "4.  If the condition `number % 2 == 0` is true, we print that the number is even.\n",
        "5.  Otherwise (in the `else` block), we print that the number is odd.\n",
        "\n",
        "This demonstrates how a conditional statement within a loop allows us to perform different actions for different elements in the list."
      ]
    },
    {
      "cell_type": "markdown",
      "metadata": {
        "id": "e4431ad1"
      },
      "source": [
        "### Another Example: Filtering items based on a condition\n",
        "\n",
        "Let's say you have a list of words and you want to create a new list containing only the words that start with a specific letter."
      ]
    },
    {
      "cell_type": "code",
      "metadata": {
        "id": "a9402e6b"
      },
      "source": [
        "words = [\"apple\", \"banana\", \"cherry\", \"date\", \"grape\"]\n",
        "starting_letter = \"b\"\n",
        "filtered_words = []\n",
        "\n",
        "print(f\"\\nFiltering words that start with '{starting_letter}':\")\n",
        "for word in words:\n",
        "  if word.lower().startswith(starting_letter.lower()):\n",
        "    filtered_words.append(word)\n",
        "\n",
        "print(\"Filtered words:\", filtered_words)"
      ],
      "execution_count": null,
      "outputs": []
    },
    {
      "cell_type": "code",
      "source": [
        "names =  [\"Risad\", \"Raihan\", \"Malik\"]\n",
        "\n",
        "intials = [name for name in names if 'R' in name]\n",
        "print(intials)"
      ],
      "metadata": {
        "colab": {
          "base_uri": "https://localhost:8080/"
        },
        "id": "HCkTszfkiErR",
        "outputId": "619e04e3-36dc-42a8-92d4-007650dd0c01"
      },
      "execution_count": null,
      "outputs": [
        {
          "output_type": "stream",
          "name": "stdout",
          "text": [
            "['Risad', 'Raihan']\n"
          ]
        }
      ]
    },
    {
      "cell_type": "code",
      "source": [
        "def even_numbers(numbers):\n",
        "  \"\"\"\n",
        "  Filter even numbers, takes a listof numbers\n",
        "  \"\"\"\n",
        "  even_list = []\n",
        "  for num in numbers:\n",
        "    if num % 2 == 0:\n",
        "      even_list.append(num)\n",
        "  return even_list\n",
        "\n",
        "nums = [1,2,3,4,5,6,7,8,9,10]\n",
        "evens = even_numbers(nums)\n",
        "print(evens)"
      ],
      "metadata": {
        "colab": {
          "base_uri": "https://localhost:8080/"
        },
        "id": "fghGOgz8igqI",
        "outputId": "261f0b90-948a-41da-8f55-febeeddbe99d"
      },
      "execution_count": null,
      "outputs": [
        {
          "output_type": "stream",
          "name": "stdout",
          "text": [
            "[2, 4, 6, 8, 10]\n"
          ]
        }
      ]
    },
    {
      "cell_type": "code",
      "source": [
        "def count_character_types(text):\n",
        "  \"\"\"\n",
        "  count letters , digits, numbers\n",
        "  \"\"\"\n",
        "  letter = 0\n",
        "  digits = 0\n",
        "  space = 0\n",
        "\n",
        "  for char in tet"
      ],
      "metadata": {
        "id": "ZN9_05yNkKGN"
      },
      "execution_count": null,
      "outputs": []
    },
    {
      "cell_type": "code",
      "source": [
        "def count_words(text):\n",
        "  \"\"\"\n",
        "  counts the freq of each word\n",
        "  \"\"\"\n",
        "  words = text.lower().split()\n",
        "  word_count = {}\n",
        "\n",
        "  for word in words:\n",
        "    if word in word_count:\n",
        "      word_count[word] += 1\n",
        "    else:\n",
        "      word_count[word] = 1\n",
        "\n",
        "  return word_count\n",
        "\n",
        "text = \"hello darkness my old old old friend, ive come to talk to you again\"\n",
        "result = count_words(text)\n",
        "print(result)"
      ],
      "metadata": {
        "colab": {
          "base_uri": "https://localhost:8080/"
        },
        "id": "dApaXLSQ_cQ2",
        "outputId": "b70b26bd-ac8e-45f2-b5d6-a4a746c26ad9"
      },
      "execution_count": 2,
      "outputs": [
        {
          "output_type": "stream",
          "name": "stdout",
          "text": [
            "{'hello': 1, 'darkness': 1, 'my': 1, 'old': 3, 'friend,': 1, 'ive': 1, 'come': 1, 'to': 2, 'talk': 1, 'you': 1, 'again': 1}\n"
          ]
        }
      ]
    },
    {
      "cell_type": "code",
      "source": [
        "#Dictionary"
      ],
      "metadata": {
        "id": "vstIVcZJCy9N"
      },
      "execution_count": 3,
      "outputs": []
    },
    {
      "cell_type": "code",
      "source": [
        "d = {\"tom\": 12345, \"Risad\": 123454, \"Moumi\": 123332}\n",
        "d"
      ],
      "metadata": {
        "colab": {
          "base_uri": "https://localhost:8080/"
        },
        "id": "xLsYL4StHM-A",
        "outputId": "36c97447-dd28-47d8-9f1f-540930b3d6cf"
      },
      "execution_count": 4,
      "outputs": [
        {
          "output_type": "execute_result",
          "data": {
            "text/plain": [
              "{'tom': 12345, 'Risad': 123454, 'Moumi': 123332}"
            ]
          },
          "metadata": {},
          "execution_count": 4
        }
      ]
    },
    {
      "cell_type": "code",
      "source": [
        "d[\"tom\"]"
      ],
      "metadata": {
        "colab": {
          "base_uri": "https://localhost:8080/"
        },
        "id": "6fUOqfZ5HU8e",
        "outputId": "115d6d65-189b-4de3-dae6-1c6f09e4fbec"
      },
      "execution_count": 5,
      "outputs": [
        {
          "output_type": "execute_result",
          "data": {
            "text/plain": [
              "12345"
            ]
          },
          "metadata": {},
          "execution_count": 5
        }
      ]
    },
    {
      "cell_type": "code",
      "source": [
        "d[\"sam\"] = 12312"
      ],
      "metadata": {
        "id": "eA1jbbf3HX0Z"
      },
      "execution_count": 6,
      "outputs": []
    },
    {
      "cell_type": "code",
      "source": [
        "d"
      ],
      "metadata": {
        "colab": {
          "base_uri": "https://localhost:8080/"
        },
        "id": "Ngk-NVZVHbE3",
        "outputId": "7c12c23e-4dc4-49f8-9732-e50ac760ea6f"
      },
      "execution_count": 7,
      "outputs": [
        {
          "output_type": "execute_result",
          "data": {
            "text/plain": [
              "{'tom': 12345, 'Risad': 123454, 'Moumi': 123332, 'sam': 12312}"
            ]
          },
          "metadata": {},
          "execution_count": 7
        }
      ]
    },
    {
      "cell_type": "code",
      "source": [
        "for key in d:\n",
        "  print(\"key:\", key, \"value:\", d[key])"
      ],
      "metadata": {
        "colab": {
          "base_uri": "https://localhost:8080/"
        },
        "id": "P_GEBCFbHbYs",
        "outputId": "df55f88f-9d8d-40f9-bbf1-ed0535ba9b2d"
      },
      "execution_count": 8,
      "outputs": [
        {
          "output_type": "stream",
          "name": "stdout",
          "text": [
            "key: tom value: 12345\n",
            "key: Risad value: 123454\n",
            "key: Moumi value: 123332\n",
            "key: sam value: 12312\n"
          ]
        }
      ]
    },
    {
      "cell_type": "code",
      "source": [
        "\"Risad\" in d"
      ],
      "metadata": {
        "colab": {
          "base_uri": "https://localhost:8080/"
        },
        "id": "mdM_8Wh3HgvC",
        "outputId": "12e96a1a-4c4d-451f-bcc3-61ad768d6d29"
      },
      "execution_count": 9,
      "outputs": [
        {
          "output_type": "execute_result",
          "data": {
            "text/plain": [
              "True"
            ]
          },
          "metadata": {},
          "execution_count": 9
        }
      ]
    },
    {
      "cell_type": "code",
      "source": [
        "\"risad\" in d"
      ],
      "metadata": {
        "colab": {
          "base_uri": "https://localhost:8080/"
        },
        "id": "dpHwOKnaHvvg",
        "outputId": "9f5b0cc3-3326-4b7a-a31d-f1dcef6b611d"
      },
      "execution_count": 10,
      "outputs": [
        {
          "output_type": "execute_result",
          "data": {
            "text/plain": [
              "False"
            ]
          },
          "metadata": {},
          "execution_count": 10
        }
      ]
    },
    {
      "cell_type": "code",
      "source": [
        "d.clear()"
      ],
      "metadata": {
        "id": "qplQlYQUHw2B"
      },
      "execution_count": 11,
      "outputs": []
    },
    {
      "cell_type": "code",
      "source": [
        "d"
      ],
      "metadata": {
        "colab": {
          "base_uri": "https://localhost:8080/"
        },
        "id": "kbmUEI46H4Kx",
        "outputId": "629271d4-d5f3-42ca-93b3-7ce9ae818719"
      },
      "execution_count": 12,
      "outputs": [
        {
          "output_type": "execute_result",
          "data": {
            "text/plain": [
              "{}"
            ]
          },
          "metadata": {},
          "execution_count": 12
        }
      ]
    },
    {
      "cell_type": "code",
      "source": [
        "info = dict(country=\"Bangladesh\", capital=\"Dhaka\")\n",
        "info"
      ],
      "metadata": {
        "colab": {
          "base_uri": "https://localhost:8080/"
        },
        "id": "YGc10v9zH4YW",
        "outputId": "74329951-ed19-499f-c872-bb57766dda16"
      },
      "execution_count": 13,
      "outputs": [
        {
          "output_type": "execute_result",
          "data": {
            "text/plain": [
              "{'country': 'Bangladesh', 'capital': 'Dhaka'}"
            ]
          },
          "metadata": {},
          "execution_count": 13
        }
      ]
    },
    {
      "cell_type": "code",
      "source": [
        "person = {\"name\": \"Ali\", \"age\": 25, \"city\": \"Dhaka\"}\n",
        "\n",
        "for key in person:\n",
        "  print(key)\n",
        "\n",
        "for value in person.values():\n",
        "  print(value)\n",
        "\n",
        "for key,value in person.items():\n",
        "  print(f\"{key}: {value}\")"
      ],
      "metadata": {
        "colab": {
          "base_uri": "https://localhost:8080/"
        },
        "id": "adh5V4THIs50",
        "outputId": "1504eb79-8cb6-4c69-9134-26ea3989b3e8"
      },
      "execution_count": 19,
      "outputs": [
        {
          "output_type": "stream",
          "name": "stdout",
          "text": [
            "name\n",
            "age\n",
            "city\n",
            "Ali\n",
            "25\n",
            "Dhaka\n",
            "name: Ali\n",
            "age: 25\n",
            "city: Dhaka\n"
          ]
        }
      ]
    },
    {
      "cell_type": "code",
      "source": [
        "person.values()"
      ],
      "metadata": {
        "colab": {
          "base_uri": "https://localhost:8080/"
        },
        "id": "FVT9bZeyI__Y",
        "outputId": "33ec4785-7088-418a-f93f-1356a488514e"
      },
      "execution_count": 22,
      "outputs": [
        {
          "output_type": "execute_result",
          "data": {
            "text/plain": [
              "dict_values(['Ali', 25, 'Dhaka'])"
            ]
          },
          "metadata": {},
          "execution_count": 22
        }
      ]
    },
    {
      "cell_type": "code",
      "source": [
        "person.keys()"
      ],
      "metadata": {
        "colab": {
          "base_uri": "https://localhost:8080/"
        },
        "id": "7xD9p7KJJZXx",
        "outputId": "7505a96c-027e-42cf-840b-240bbcdbd52c"
      },
      "execution_count": 23,
      "outputs": [
        {
          "output_type": "execute_result",
          "data": {
            "text/plain": [
              "dict_keys(['name', 'age', 'city'])"
            ]
          },
          "metadata": {},
          "execution_count": 23
        }
      ]
    },
    {
      "cell_type": "code",
      "source": [
        "print (\"name\" in person)"
      ],
      "metadata": {
        "colab": {
          "base_uri": "https://localhost:8080/"
        },
        "id": "t9Ik9M_bJn8G",
        "outputId": "afb5c769-9ff2-490a-d44a-6ebe34d9e1fc"
      },
      "execution_count": 24,
      "outputs": [
        {
          "output_type": "stream",
          "name": "stdout",
          "text": [
            "True\n"
          ]
        }
      ]
    },
    {
      "cell_type": "code",
      "source": [
        "person.pop(\"age\")"
      ],
      "metadata": {
        "colab": {
          "base_uri": "https://localhost:8080/"
        },
        "id": "aZu4E6UOJs9c",
        "outputId": "c064ce92-5dde-4e5b-f6a6-30c724cc3dcd"
      },
      "execution_count": 25,
      "outputs": [
        {
          "output_type": "execute_result",
          "data": {
            "text/plain": [
              "25"
            ]
          },
          "metadata": {},
          "execution_count": 25
        }
      ]
    },
    {
      "cell_type": "code",
      "source": [
        "person"
      ],
      "metadata": {
        "colab": {
          "base_uri": "https://localhost:8080/"
        },
        "id": "trFoj2iKJ0HC",
        "outputId": "7cc248c2-568c-4416-f71f-47f834d790f6"
      },
      "execution_count": 26,
      "outputs": [
        {
          "output_type": "execute_result",
          "data": {
            "text/plain": [
              "{'name': 'Ali', 'city': 'Dhaka'}"
            ]
          },
          "metadata": {},
          "execution_count": 26
        }
      ]
    },
    {
      "cell_type": "code",
      "source": [
        "person.clear()"
      ],
      "metadata": {
        "id": "_AXzosQOJ2lq"
      },
      "execution_count": 27,
      "outputs": []
    },
    {
      "cell_type": "code",
      "source": [
        "person"
      ],
      "metadata": {
        "colab": {
          "base_uri": "https://localhost:8080/"
        },
        "id": "Ts7gU8C9J5Sm",
        "outputId": "05ee20a0-9ace-495a-c60d-33595e2aa750"
      },
      "execution_count": 28,
      "outputs": [
        {
          "output_type": "execute_result",
          "data": {
            "text/plain": [
              "{}"
            ]
          },
          "metadata": {},
          "execution_count": 28
        }
      ]
    },
    {
      "cell_type": "code",
      "source": [
        "def count_fruits(fruits):\n",
        "  \"\"\"\n",
        "  counts freq of fruits\n",
        "  \"\"\"\n",
        "\n",
        "  fruit_count = {}\n",
        "\n",
        "  for fruit in fruits:\n",
        "    if fruit in fruit_count:\n",
        "      fruit_count[fruit] += 1\n",
        "\n",
        "    else:\n",
        "      fruit_count[fruit] = 1\n",
        "\n",
        "  return fruit_count\n",
        "\n",
        "fruits = [\"apple\", \"mango\", \"watermalon\", \"mango\", \"apple\", \"apple\"]\n",
        "result = count_fruits(fruits)\n",
        "print(result)\n"
      ],
      "metadata": {
        "colab": {
          "base_uri": "https://localhost:8080/"
        },
        "id": "Dagjdv3RJ6A9",
        "outputId": "af407462-5a7c-4be9-d3c1-9b12e157e2a1"
      },
      "execution_count": 30,
      "outputs": [
        {
          "output_type": "stream",
          "name": "stdout",
          "text": [
            "{'apple': 3, 'mango': 2, 'watermalon': 1}\n"
          ]
        }
      ]
    },
    {
      "cell_type": "code",
      "source": [
        "def add_grade(grades_dict, student_name, grade):\n",
        "  \"\"\"\n",
        "  add a student and grade\n",
        "  \"\"\"\n",
        "  grades_dict[student_name] = grade\n",
        "\n",
        "  return grades_dict\n",
        "\n",
        "\n",
        "def get_avg_grades(grades_dict):\n",
        "  \"\"\"\n",
        "  get avg grade\n",
        "  \"\"\"\n",
        "  total = 0\n",
        "\n",
        "  for grade in grades_dict.values():\n",
        "    total += grade\n",
        "\n",
        "  return total / len(grades_dict)\n",
        "\n",
        "\n",
        "grades = {}\n",
        "add_grade(grades, \"Risad\", 99)\n",
        "add_grade(grades, \"Raihan\", 60)\n",
        "add_grade(grades, \"Malik\", 50)\n",
        "\n",
        "for student, grade in grades.items():\n",
        "  print(f\"{student}: {grade}\")\n",
        "\n",
        "print(f\"avg grade : {get_avg_grades(grades)}\")\n",
        "\n"
      ],
      "metadata": {
        "colab": {
          "base_uri": "https://localhost:8080/"
        },
        "id": "suv9x17eKsOn",
        "outputId": "bb3d6c4a-2e5c-40c9-8ff6-253aebed19e9"
      },
      "execution_count": 34,
      "outputs": [
        {
          "output_type": "stream",
          "name": "stdout",
          "text": [
            "Risad: 99\n",
            "Raihan: 60\n",
            "Malik: 50\n",
            "avg grade : 69.66666666666667\n"
          ]
        }
      ]
    },
    {
      "cell_type": "code",
      "source": [
        "def add_contact(phonebook, name, phone):\n",
        "  \"\"\"\n",
        "  adds contact\n",
        "  \"\"\"\n",
        "\n",
        "  phonebook[name] = phone\n",
        "\n",
        "  return phonebook\n",
        "\n",
        "def search_contact(phonebook, name):\n",
        "  \"\"\"\n",
        "  searches contact\n",
        "  \"\"\"\n",
        "\n",
        "  if name in phonebook:\n",
        "    return phonebook[name]\n",
        "  else:\n",
        "    return \"contact not found\"\n",
        "\n",
        "contacts = {}\n",
        "\n",
        "add_contact(contacts, \"Ali\", \"01712345678\")\n",
        "add_contact(contacts, \"Sara\", \"01987654321\")\n",
        "add_contact(contacts, \"Ahmed\", \"01556667777\")\n",
        "\n",
        "print(search_contact(contacts, \"Ali\"))\n",
        "print(search_contact(contacts, \"Sara\"))\n",
        "print(search_contact(contacts, \"Ahmed\"))\n",
        "print(search_contact(contacts, \"Rahim\"))\n",
        "\n",
        "for name, phone in contacts.items():\n",
        "  print(f\"{name}: {phone}\")\n"
      ],
      "metadata": {
        "colab": {
          "base_uri": "https://localhost:8080/"
        },
        "id": "a2xdGyT3Oxcn",
        "outputId": "6946c760-4669-4ce0-ec4b-beeb59684759"
      },
      "execution_count": 36,
      "outputs": [
        {
          "output_type": "stream",
          "name": "stdout",
          "text": [
            "01712345678\n",
            "01987654321\n",
            "01556667777\n",
            "contact not found\n",
            "Ali: 01712345678\n",
            "Sara: 01987654321\n",
            "Ahmed: 01556667777\n"
          ]
        }
      ]
    },
    {
      "cell_type": "code",
      "source": [
        "def read_file(filename):\n",
        "  \"\"\"\n",
        "  Reads and prints all lines from a file.\n",
        "  \"\"\"\n",
        "  file = open(filename, 'r')  # 'r' means read mode\n",
        "  content = file.read()\n",
        "  print(content)\n",
        "  file.close()\n",
        "\n",
        "read_file(\"myfile.txt\")"
      ],
      "metadata": {
        "colab": {
          "base_uri": "https://localhost:8080/",
          "height": 297
        },
        "id": "GntazjP1Xyt7",
        "outputId": "9fa7ee04-8a5c-4e34-9727-13096053ecb7"
      },
      "execution_count": 38,
      "outputs": [
        {
          "output_type": "error",
          "ename": "FileNotFoundError",
          "evalue": "[Errno 2] No such file or directory: 'myfile.txt'",
          "traceback": [
            "\u001b[0;31m---------------------------------------------------------------------------\u001b[0m",
            "\u001b[0;31mFileNotFoundError\u001b[0m                         Traceback (most recent call last)",
            "\u001b[0;32m/tmp/ipython-input-3157396715.py\u001b[0m in \u001b[0;36m<cell line: 0>\u001b[0;34m()\u001b[0m\n\u001b[1;32m      8\u001b[0m   \u001b[0mfile\u001b[0m\u001b[0;34m.\u001b[0m\u001b[0mclose\u001b[0m\u001b[0;34m(\u001b[0m\u001b[0;34m)\u001b[0m\u001b[0;34m\u001b[0m\u001b[0;34m\u001b[0m\u001b[0m\n\u001b[1;32m      9\u001b[0m \u001b[0;34m\u001b[0m\u001b[0m\n\u001b[0;32m---> 10\u001b[0;31m \u001b[0mread_file\u001b[0m\u001b[0;34m(\u001b[0m\u001b[0;34m\"myfile.txt\"\u001b[0m\u001b[0;34m)\u001b[0m\u001b[0;34m\u001b[0m\u001b[0;34m\u001b[0m\u001b[0m\n\u001b[0m",
            "\u001b[0;32m/tmp/ipython-input-3157396715.py\u001b[0m in \u001b[0;36mread_file\u001b[0;34m(filename)\u001b[0m\n\u001b[1;32m      3\u001b[0m   \u001b[0mReads\u001b[0m \u001b[0;32mand\u001b[0m \u001b[0mprints\u001b[0m \u001b[0mall\u001b[0m \u001b[0mlines\u001b[0m \u001b[0;32mfrom\u001b[0m \u001b[0ma\u001b[0m \u001b[0mfile\u001b[0m\u001b[0;34m.\u001b[0m\u001b[0;34m\u001b[0m\u001b[0;34m\u001b[0m\u001b[0m\n\u001b[1;32m      4\u001b[0m   \"\"\"\n\u001b[0;32m----> 5\u001b[0;31m   \u001b[0mfile\u001b[0m \u001b[0;34m=\u001b[0m \u001b[0mopen\u001b[0m\u001b[0;34m(\u001b[0m\u001b[0mfilename\u001b[0m\u001b[0;34m,\u001b[0m \u001b[0;34m'r'\u001b[0m\u001b[0;34m)\u001b[0m  \u001b[0;31m# 'r' means read mode\u001b[0m\u001b[0;34m\u001b[0m\u001b[0;34m\u001b[0m\u001b[0m\n\u001b[0m\u001b[1;32m      6\u001b[0m   \u001b[0mcontent\u001b[0m \u001b[0;34m=\u001b[0m \u001b[0mfile\u001b[0m\u001b[0;34m.\u001b[0m\u001b[0mread\u001b[0m\u001b[0;34m(\u001b[0m\u001b[0;34m)\u001b[0m\u001b[0;34m\u001b[0m\u001b[0;34m\u001b[0m\u001b[0m\n\u001b[1;32m      7\u001b[0m   \u001b[0mprint\u001b[0m\u001b[0;34m(\u001b[0m\u001b[0mcontent\u001b[0m\u001b[0;34m)\u001b[0m\u001b[0;34m\u001b[0m\u001b[0;34m\u001b[0m\u001b[0m\n",
            "\u001b[0;31mFileNotFoundError\u001b[0m: [Errno 2] No such file or directory: 'myfile.txt'"
          ]
        }
      ]
    },
    {
      "cell_type": "code",
      "source": [
        "def save_grades(filename, grades_dict):\n",
        "  \"\"\"\n",
        "  Saves grades to a file.\n",
        "  \"\"\"\n",
        "  try:\n",
        "    with open(filename, 'w') as file:\n",
        "      for student, grade in grades_dict.items():\n",
        "        file.write(f\"{student}: {grade}\\n\")\n",
        "    print(\"Grades saved!\")\n",
        "  except Exception as e:\n",
        "    print(f\"Error saving: {e}\")\n",
        "\n",
        "def read_grades(filename):\n",
        "  \"\"\"\n",
        "  Reads grades from a file.\n",
        "  \"\"\"\n",
        "  try:\n",
        "    with open(filename, 'r') as file:\n",
        "      lines = file.readlines()\n",
        "      for line in lines:\n",
        "        print(line.strip())\n",
        "  except FileNotFoundError:\n",
        "    print(f\"Error: {filename} not found!\")\n",
        "\n",
        "# Use it\n",
        "grades = {\"Ali\": 85, \"Sara\": 92, \"Ahmed\": 78}\n",
        "save_grades(\"grades.txt\", grades)\n",
        "read_grades(\"grades.txt\")"
      ],
      "metadata": {
        "colab": {
          "base_uri": "https://localhost:8080/"
        },
        "id": "pfgzV8mJX7AW",
        "outputId": "d0405d00-107b-48b0-f121-2ce6f96b04f8"
      },
      "execution_count": 39,
      "outputs": [
        {
          "output_type": "stream",
          "name": "stdout",
          "text": [
            "Grades saved!\n",
            "Ali: 85\n",
            "Sara: 92\n",
            "Ahmed: 78\n"
          ]
        }
      ]
    },
    {
      "cell_type": "code",
      "source": [],
      "metadata": {
        "id": "B2XVfAA_YUe5"
      },
      "execution_count": null,
      "outputs": []
    }
  ]
}